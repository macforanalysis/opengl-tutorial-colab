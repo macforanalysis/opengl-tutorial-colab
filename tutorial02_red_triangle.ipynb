{
  "nbformat": 4,
  "nbformat_minor": 0,
  "metadata": {
    "colab": {
      "name": "tutorial02_red_triangle",
      "provenance": [],
      "collapsed_sections": [],
      "authorship_tag": "ABX9TyNovm/9NA/375rQWBA5WX3S",
      "include_colab_link": true
    },
    "kernelspec": {
      "name": "python3",
      "display_name": "Python 3"
    },
    "accelerator": "GPU"
  },
  "cells": [
    {
      "cell_type": "markdown",
      "metadata": {
        "id": "view-in-github",
        "colab_type": "text"
      },
      "source": [
        "<a href=\"https://colab.research.google.com/github/macforanalysis/opengl-tutorial-colab/blob/master/tutorial02_red_triangle.ipynb\" target=\"_parent\"><img src=\"https://colab.research.google.com/assets/colab-badge.svg\" alt=\"Open In Colab\"/></a>"
      ]
    },
    {
      "cell_type": "markdown",
      "metadata": {
        "id": "QkAY7mM87RJx",
        "colab_type": "text"
      },
      "source": [
        "This code is based on the following URL:\n",
        "http://www.opengl-tutorial.org/beginners-tutorials/tutorial-2-the-first-triangle/"
      ]
    },
    {
      "cell_type": "code",
      "metadata": {
        "id": "kldadME87qke",
        "colab_type": "code",
        "colab": {}
      },
      "source": [
        "import numpy as np\n",
        "import matplotlib.pyplot as plt"
      ],
      "execution_count": 0,
      "outputs": []
    },
    {
      "cell_type": "code",
      "metadata": {
        "id": "cvdNFENt7LM2",
        "colab_type": "code",
        "colab": {}
      },
      "source": [
        "!pip install -q lucid>=0.2.3"
      ],
      "execution_count": 0,
      "outputs": []
    },
    {
      "cell_type": "code",
      "metadata": {
        "id": "dILBtg_K7aVb",
        "colab_type": "code",
        "outputId": "1316c3a5-c2e7-488e-8047-2825bf81cc32",
        "colab": {
          "base_uri": "https://localhost:8080/",
          "height": 85
        }
      },
      "source": [
        "from lucid.misc.gl.glcontext import create_opengl_context\n",
        "import OpenGL.GL as gl\n",
        "import OpenGL.GLU as glu\n",
        "import OpenGL.GL.shaders as shaders\n",
        "\n",
        "WIDTH, HEIGHT = 1024, 768\n",
        "\n",
        "create_opengl_context((WIDTH, HEIGHT))\n",
        "\n",
        "print(gl.glGetString(gl.GL_VERSION))\n",
        "print(gl.glGetString(gl.GL_VENDOR))\n",
        "print(gl.glGetString(gl.GL_SHADING_LANGUAGE_VERSION))\n",
        "print(gl.glGetString(gl.GL_RENDERER))"
      ],
      "execution_count": 0,
      "outputs": [
        {
          "output_type": "stream",
          "text": [
            "b'4.6.0 NVIDIA 418.67'\n",
            "b'NVIDIA Corporation'\n",
            "b'4.60 NVIDIA'\n",
            "b'Tesla K80/PCIe/SSE2'\n"
          ],
          "name": "stdout"
        }
      ]
    },
    {
      "cell_type": "code",
      "metadata": {
        "id": "gMdEXk577feU",
        "colab_type": "code",
        "colab": {}
      },
      "source": [
        "# Dark blue background\n",
        "gl.glClearColor(0., 0., 0.4, 0.)"
      ],
      "execution_count": 0,
      "outputs": []
    },
    {
      "cell_type": "code",
      "metadata": {
        "id": "2iKXtba27hSf",
        "colab_type": "code",
        "colab": {}
      },
      "source": [
        "vertex_array_id = gl.glGenVertexArrays(1)\n",
        "gl.glBindVertexArray(vertex_array_id)"
      ],
      "execution_count": 0,
      "outputs": []
    },
    {
      "cell_type": "code",
      "metadata": {
        "id": "vqDCQQzv7iuG",
        "colab_type": "code",
        "colab": {}
      },
      "source": [
        "VERTEX_SHADER = \"\"\"\n",
        "#version 330 core\n",
        "\n",
        "// Input vertex data, different for all executions of this shader.\n",
        "layout(location = 0) in vec3 vertexPosition_modelspace;\n",
        "\n",
        "void main(){\n",
        "\n",
        "    gl_Position.xyz = vertexPosition_modelspace;\n",
        "    gl_Position.w = 1.0;\n",
        "\n",
        "}\n",
        "\"\"\""
      ],
      "execution_count": 0,
      "outputs": []
    },
    {
      "cell_type": "code",
      "metadata": {
        "id": "HvnEr_dJ7kLk",
        "colab_type": "code",
        "colab": {}
      },
      "source": [
        "FRAGMENT_SHADER = \"\"\"\n",
        "#version 330 core\n",
        "\n",
        "// Ouput data\n",
        "out vec3 color;\n",
        "\n",
        "void main()\n",
        "{\n",
        "\n",
        "        // Output color = red \n",
        "        color = vec3(1,0,0);\n",
        "\n",
        "}\n",
        "\"\"\""
      ],
      "execution_count": 0,
      "outputs": []
    },
    {
      "cell_type": "code",
      "metadata": {
        "id": "P0aYEn4W7l63",
        "colab_type": "code",
        "colab": {}
      },
      "source": [
        "vert_shader = shaders.compileShader(VERTEX_SHADER, gl.GL_VERTEX_SHADER)\n",
        "frag_shader = shaders.compileShader(FRAGMENT_SHADER, gl.GL_FRAGMENT_SHADER)\n",
        "program_id = shaders.compileProgram(vert_shader, frag_shader)"
      ],
      "execution_count": 0,
      "outputs": []
    },
    {
      "cell_type": "code",
      "metadata": {
        "id": "rGxVjnNP7nes",
        "colab_type": "code",
        "colab": {}
      },
      "source": [
        "g_vertex_buffer_data = np.array([\n",
        "                                 -1.0, -1.0, 0.0,\n",
        "                                 1.0, -1.0, 0.0,\n",
        "                                 0.0, 1.0, 0.0,\n",
        "], dtype=np.float32)"
      ],
      "execution_count": 0,
      "outputs": []
    },
    {
      "cell_type": "code",
      "metadata": {
        "id": "2W0PAMk87o-m",
        "colab_type": "code",
        "colab": {}
      },
      "source": [
        "vertex_buffer = gl.glGenBuffers(1)\n",
        "gl.glBindBuffer(gl.GL_ARRAY_BUFFER, vertex_buffer)\n",
        "gl.glBufferData(gl.GL_ARRAY_BUFFER, g_vertex_buffer_data, gl.GL_STATIC_DRAW)"
      ],
      "execution_count": 0,
      "outputs": []
    },
    {
      "cell_type": "code",
      "metadata": {
        "id": "UCpG0Yq77yP0",
        "colab_type": "code",
        "colab": {}
      },
      "source": [
        "# clear the screen\n",
        "gl.glClear(gl.GL_COLOR_BUFFER_BIT)\n",
        "\n",
        "# use our shader\n",
        "gl.glUseProgram(program_id)\n",
        "\n",
        "# 1st attribute buffer : vertices\n",
        "gl.glEnableVertexAttribArray(0)\n",
        "gl.glBindBuffer(gl.GL_ARRAY_BUFFER, vertex_buffer)\n",
        "gl.glVertexAttribPointer(\n",
        "    0,\n",
        "    3,\n",
        "    gl.GL_FLOAT,\n",
        "    gl.GL_FALSE,\n",
        "    0,\n",
        "    None\n",
        ")\n",
        "\n",
        "# Draw the triangle\n",
        "gl.glDrawArrays(gl.GL_TRIANGLES, 0, 3)\n",
        "\n",
        "gl.glDisableVertexAttribArray(0)"
      ],
      "execution_count": 0,
      "outputs": []
    },
    {
      "cell_type": "code",
      "metadata": {
        "id": "le97S-D_70FR",
        "colab_type": "code",
        "outputId": "1709b705-2903-4f0a-e7a5-0b3e2870726c",
        "colab": {
          "base_uri": "https://localhost:8080/",
          "height": 286
        }
      },
      "source": [
        "img_buf = gl.glReadPixelsub(0, 0, WIDTH, HEIGHT, gl.GL_RGB, gl.GL_UNSIGNED_BYTE)\n",
        "img = np.frombuffer(img_buf, np.uint8).reshape(HEIGHT, WIDTH, 3)[::-1]\n",
        "plt.imshow(img)"
      ],
      "execution_count": 0,
      "outputs": [
        {
          "output_type": "execute_result",
          "data": {
            "text/plain": [
              "<matplotlib.image.AxesImage at 0x7f225baacf60>"
            ]
          },
          "metadata": {
            "tags": []
          },
          "execution_count": 12
        },
        {
          "output_type": "display_data",
          "data": {
            "image/png": "[encoded data removed]",
            "text/plain": [
              "<Figure size 432x288 with 1 Axes>"
            ]
          },
          "metadata": {
            "tags": [],
            "needs_background": "light"
          }
        }
      ]
    }
  ]
}